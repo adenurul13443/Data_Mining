{
  "nbformat": 4,
  "nbformat_minor": 0,
  "metadata": {
    "colab": {
      "provenance": []
    },
    "kernelspec": {
      "name": "python3",
      "display_name": "Python 3"
    },
    "language_info": {
      "name": "python"
    }
  },
  "cells": [
    {
      "cell_type": "code",
      "execution_count": 161,
      "metadata": {
        "id": "-4k4rIur0ayM"
      },
      "outputs": [],
      "source": [
        "import numpy as np\n",
        "import matplotlib.pyplot as plt\n",
        "import pandas as pd"
      ]
    },
    {
      "cell_type": "code",
      "source": [
        "dataset = pd.read_csv('Data3.csv')\n",
        "x = dataset.iloc[:, :-1].values\n",
        "y = dataset.iloc[:, -1].values"
      ],
      "metadata": {
        "id": "xdWKRMhK1097"
      },
      "execution_count": 162,
      "outputs": []
    },
    {
      "cell_type": "code",
      "source": [
        "print(x)"
      ],
      "metadata": {
        "colab": {
          "base_uri": "https://localhost:8080/"
        },
        "id": "FEXdFMJO29kx",
        "outputId": "d6c003d7-0857-4ad0-89e1-4c2ead97d4a3"
      },
      "execution_count": 163,
      "outputs": [
        {
          "output_type": "stream",
          "name": "stdout",
          "text": [
            "[['Indonesia' 40.0 70000.0]\n",
            " ['Malaysia' 25.0 47000.0]\n",
            " ['Thailand' nan 54000.0]\n",
            " ['Vietnam' 31.0 63000.0]\n",
            " ['Kamboja' 27.0 59000.0]\n",
            " ['Indonesia' 35.0 59000.0]\n",
            " ['Vietnam' 43.0 51000.0]\n",
            " ['Malaysia' 39.0 nan]\n",
            " ['Filipina' 48.0 73000.0]\n",
            " ['Thailand' 37.0 69000.0]]\n"
          ]
        }
      ]
    },
    {
      "cell_type": "code",
      "source": [
        "print(y)"
      ],
      "metadata": {
        "colab": {
          "base_uri": "https://localhost:8080/"
        },
        "id": "3axM6d143CsD",
        "outputId": "7054695b-e520-40de-c29a-7cac8bc0f366"
      },
      "execution_count": 164,
      "outputs": [
        {
          "output_type": "stream",
          "name": "stdout",
          "text": [
            "['Tidak' 'Tidak' 'Ya' 'Ya' 'Ya' 'Tidak' 'Ya' 'Tidak' 'Ya' 'Tidak']\n"
          ]
        }
      ]
    },
    {
      "cell_type": "code",
      "source": [
        "from sklearn.impute import SimpleImputer\n",
        "imputer = SimpleImputer(missing_values=np.nan, strategy='mean')\n",
        "imputer.fit(x[:, 1:3])\n",
        "x[:, 1:3] = imputer.transform(x[:, 1:3])"
      ],
      "metadata": {
        "id": "7leEJy3N5RT7"
      },
      "execution_count": 165,
      "outputs": []
    },
    {
      "cell_type": "code",
      "source": [
        "print(x)"
      ],
      "metadata": {
        "colab": {
          "base_uri": "https://localhost:8080/"
        },
        "id": "7gqB8cOk5TZY",
        "outputId": "b9c81748-5309-4e21-bd94-7a4dd36407f0"
      },
      "execution_count": 166,
      "outputs": [
        {
          "output_type": "stream",
          "name": "stdout",
          "text": [
            "[['Indonesia' 40.0 70000.0]\n",
            " ['Malaysia' 25.0 47000.0]\n",
            " ['Thailand' 36.111111111111114 54000.0]\n",
            " ['Vietnam' 31.0 63000.0]\n",
            " ['Kamboja' 27.0 59000.0]\n",
            " ['Indonesia' 35.0 59000.0]\n",
            " ['Vietnam' 43.0 51000.0]\n",
            " ['Malaysia' 39.0 60555.555555555555]\n",
            " ['Filipina' 48.0 73000.0]\n",
            " ['Thailand' 37.0 69000.0]]\n"
          ]
        }
      ]
    },
    {
      "cell_type": "code",
      "source": [
        "from sklearn.compose import ColumnTransformer\n",
        "from sklearn.preprocessing import OneHotEncoder\n",
        "ct = ColumnTransformer(transformers=[('encoder', OneHotEncoder(), [0])], remainder='passthrough')\n",
        "x = np.array(ct.fit_transform(x))"
      ],
      "metadata": {
        "id": "5HFSYNQF5jhg"
      },
      "execution_count": 167,
      "outputs": []
    },
    {
      "cell_type": "code",
      "source": [
        "print(x)"
      ],
      "metadata": {
        "colab": {
          "base_uri": "https://localhost:8080/"
        },
        "id": "sQCPJVsz5mRY",
        "outputId": "ad7e6734-df63-4813-e2de-d4160ada6a16"
      },
      "execution_count": 168,
      "outputs": [
        {
          "output_type": "stream",
          "name": "stdout",
          "text": [
            "[[0.0 1.0 0.0 0.0 0.0 0.0 40.0 70000.0]\n",
            " [0.0 0.0 0.0 1.0 0.0 0.0 25.0 47000.0]\n",
            " [0.0 0.0 0.0 0.0 1.0 0.0 36.111111111111114 54000.0]\n",
            " [0.0 0.0 0.0 0.0 0.0 1.0 31.0 63000.0]\n",
            " [0.0 0.0 1.0 0.0 0.0 0.0 27.0 59000.0]\n",
            " [0.0 1.0 0.0 0.0 0.0 0.0 35.0 59000.0]\n",
            " [0.0 0.0 0.0 0.0 0.0 1.0 43.0 51000.0]\n",
            " [0.0 0.0 0.0 1.0 0.0 0.0 39.0 60555.555555555555]\n",
            " [1.0 0.0 0.0 0.0 0.0 0.0 48.0 73000.0]\n",
            " [0.0 0.0 0.0 0.0 1.0 0.0 37.0 69000.0]]\n"
          ]
        }
      ]
    },
    {
      "cell_type": "code",
      "source": [
        "from sklearn.preprocessing import LabelEncoder\n",
        "le = LabelEncoder()\n",
        "y = le.fit_transform(y)"
      ],
      "metadata": {
        "id": "osqBEjEE51md"
      },
      "execution_count": 169,
      "outputs": []
    },
    {
      "cell_type": "code",
      "source": [
        "print(y)"
      ],
      "metadata": {
        "colab": {
          "base_uri": "https://localhost:8080/"
        },
        "id": "8Y0frEdH54U8",
        "outputId": "ae472665-4ba4-42e7-c596-550ac937a11d"
      },
      "execution_count": 170,
      "outputs": [
        {
          "output_type": "stream",
          "name": "stdout",
          "text": [
            "[0 0 1 1 1 0 1 0 1 0]\n"
          ]
        }
      ]
    },
    {
      "cell_type": "code",
      "source": [
        "from sklearn.model_selection import train_test_split\n",
        "x_train, x_test, y_train, y_test = train_test_split(x, y, test_size = 0.2, random_state = 1)"
      ],
      "metadata": {
        "id": "h4Ka6LkW59rb"
      },
      "execution_count": 171,
      "outputs": []
    },
    {
      "cell_type": "code",
      "source": [
        "print(x_train)   "
      ],
      "metadata": {
        "colab": {
          "base_uri": "https://localhost:8080/"
        },
        "id": "0EFxg9Ylx2Vz",
        "outputId": "d2a9e63a-8ba2-4383-eb3e-c2273fb5dc8a"
      },
      "execution_count": 172,
      "outputs": [
        {
          "output_type": "stream",
          "name": "stdout",
          "text": [
            "[[0.0 0.0 0.0 0.0 0.0 1.0 43.0 51000.0]\n",
            " [0.0 0.0 1.0 0.0 0.0 0.0 27.0 59000.0]\n",
            " [0.0 1.0 0.0 0.0 0.0 0.0 40.0 70000.0]\n",
            " [0.0 0.0 0.0 0.0 0.0 1.0 31.0 63000.0]\n",
            " [0.0 0.0 0.0 1.0 0.0 0.0 25.0 47000.0]\n",
            " [0.0 0.0 0.0 1.0 0.0 0.0 39.0 60555.555555555555]\n",
            " [1.0 0.0 0.0 0.0 0.0 0.0 48.0 73000.0]\n",
            " [0.0 1.0 0.0 0.0 0.0 0.0 35.0 59000.0]]\n"
          ]
        }
      ]
    },
    {
      "cell_type": "code",
      "source": [
        "print(x_test)"
      ],
      "metadata": {
        "colab": {
          "base_uri": "https://localhost:8080/"
        },
        "id": "zUp1pFsfx6S8",
        "outputId": "512b13dd-c479-4f24-bcde-dc63dfa03ec9"
      },
      "execution_count": 173,
      "outputs": [
        {
          "output_type": "stream",
          "name": "stdout",
          "text": [
            "[[0.0 0.0 0.0 0.0 1.0 0.0 36.111111111111114 54000.0]\n",
            " [0.0 0.0 0.0 0.0 1.0 0.0 37.0 69000.0]]\n"
          ]
        }
      ]
    },
    {
      "cell_type": "code",
      "source": [
        "print(y_train)"
      ],
      "metadata": {
        "colab": {
          "base_uri": "https://localhost:8080/"
        },
        "id": "YJhAAdH3x_mS",
        "outputId": "3d2e0636-4c28-4361-f389-345009b46cc1"
      },
      "execution_count": 174,
      "outputs": [
        {
          "output_type": "stream",
          "name": "stdout",
          "text": [
            "[1 1 0 1 0 0 1 0]\n"
          ]
        }
      ]
    },
    {
      "cell_type": "code",
      "source": [
        "print(y_test)"
      ],
      "metadata": {
        "colab": {
          "base_uri": "https://localhost:8080/"
        },
        "id": "6dgxEpq9yDY6",
        "outputId": "32f25cfc-15b3-444c-d9db-991a094cc623"
      },
      "execution_count": 175,
      "outputs": [
        {
          "output_type": "stream",
          "name": "stdout",
          "text": [
            "[1 0]\n"
          ]
        }
      ]
    },
    {
      "cell_type": "code",
      "source": [
        "from sklearn.preprocessing import StandardScaler\n",
        "sc = StandardScaler()\n",
        "x_train[:, 3:] = sc.fit_transform(x_train[:, 3:])\n",
        "x_test[:, 3:] = sc.transform(x_test[:, 3:])"
      ],
      "metadata": {
        "id": "Dm74Pg4_yHFW"
      },
      "execution_count": 176,
      "outputs": []
    },
    {
      "cell_type": "code",
      "source": [
        "print(x_train)"
      ],
      "metadata": {
        "colab": {
          "base_uri": "https://localhost:8080/"
        },
        "id": "-bYcijTYyKfc",
        "outputId": "084f95d4-35f7-4b1d-a6ed-31206dba9d35"
      },
      "execution_count": 177,
      "outputs": [
        {
          "output_type": "stream",
          "name": "stdout",
          "text": [
            "[[0.0 0.0 0.0 -0.5773502691896258 0.0 1.7320508075688774\n",
            "  0.9375093422553951 -1.1455266556164283]\n",
            " [0.0 0.0 1.0 -0.5773502691896258 0.0 -0.5773502691896258\n",
            "  -1.2053691543283651 -0.16218335660739305]\n",
            " [0.0 1.0 0.0 -0.5773502691896258 0.0 -0.5773502691896258\n",
            "  0.5357196241459401 1.1899136795300302]\n",
            " [0.0 0.0 0.0 -0.5773502691896258 0.0 1.7320508075688774\n",
            "  -0.669649530182425 0.32948829289712456]\n",
            " [0.0 0.0 0.0 1.7320508075688774 0.0 -0.5773502691896258\n",
            "  -1.4732289664013352 -1.6371983051209458]\n",
            " [0.0 0.0 0.0 1.7320508075688774 0.0 -0.5773502691896258\n",
            "  0.401789718109455 0.02902228486658591]\n",
            " [1.0 0.0 0.0 -0.5773502691896258 0.0 -0.5773502691896258\n",
            "  1.60715887243782 1.5586674166584185]\n",
            " [0.0 1.0 0.0 -0.5773502691896258 0.0 -0.5773502691896258\n",
            "  -0.13392990603648502 -0.16218335660739305]]\n"
          ]
        }
      ]
    },
    {
      "cell_type": "code",
      "source": [
        "print(x_test)"
      ],
      "metadata": {
        "colab": {
          "base_uri": "https://localhost:8080/"
        },
        "id": "ElFs6n1hyORN",
        "outputId": "d3dec0ad-09a3-4838-f306-a1c3f50d492c"
      },
      "execution_count": 178,
      "outputs": [
        {
          "output_type": "stream",
          "name": "stdout",
          "text": [
            "[[0.0 0.0 0.0 -0.5773502691896258 1.0 -0.5773502691896258\n",
            "  0.01488110067072098 -0.7767729184880401]\n",
            " [0.0 0.0 0.0 -0.5773502691896258 1.0 -0.5773502691896258\n",
            "  0.13392990603648502 1.066995767153901]]\n"
          ]
        }
      ]
    }
  ]
}